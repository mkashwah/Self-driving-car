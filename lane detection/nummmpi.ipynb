{
 "cells": [
  {
   "cell_type": "code",
   "execution_count": 1,
   "metadata": {},
   "outputs": [],
   "source": [
    "import numpy as np"
   ]
  },
  {
   "cell_type": "code",
   "execution_count": 17,
   "metadata": {},
   "outputs": [
    {
     "name": "stdout",
     "output_type": "stream",
     "text": [
      "[[ 2  6 12]]\n"
     ]
    }
   ],
   "source": [
    "ar = np.array([[1,2,3]])\n",
    "ar2 = np.array([[2,3,4]])\n",
    "print(ar*ar2)\n",
    "#print(ar.T)"
   ]
  },
  {
   "cell_type": "code",
   "execution_count": 39,
   "metadata": {},
   "outputs": [
    {
     "name": "stdout",
     "output_type": "stream",
     "text": [
      "['hello' 'whatever']\n",
      "['hello' 'whatever' 'lll']\n"
     ]
    }
   ],
   "source": [
    "strng = np.array([\"hello\", \"whatever\"])\n",
    "print(strng)\n",
    "strng = np.append(strng, \"lll\" )\n",
    "print(strng)"
   ]
  },
  {
   "cell_type": "code",
   "execution_count": 46,
   "metadata": {},
   "outputs": [
    {
     "name": "stdout",
     "output_type": "stream",
     "text": [
      "[[1 2 3]\n",
      " [4 5 6]]\n"
     ]
    }
   ],
   "source": [
    "arrr = np.array([[1,2,3],[4,5,6]])\n",
    "print(arrr)"
   ]
  },
  {
   "cell_type": "code",
   "execution_count": 53,
   "metadata": {},
   "outputs": [],
   "source": [
    "np.random.seed(0)\n",
    "rnd = np.random.normal(10, 2, 10)"
   ]
  },
  {
   "cell_type": "code",
   "execution_count": 54,
   "metadata": {},
   "outputs": [
    {
     "name": "stdout",
     "output_type": "stream",
     "text": [
      "[13.52810469 10.80031442 11.95747597 14.4817864  13.73511598  8.04544424\n",
      " 11.90017684  9.69728558  9.7935623  10.821197  ]\n"
     ]
    }
   ],
   "source": [
    "print(rnd)"
   ]
  },
  {
   "cell_type": "code",
   "execution_count": 68,
   "metadata": {},
   "outputs": [],
   "source": [
    "arr = np.array([rnd]).transpose()"
   ]
  },
  {
   "cell_type": "code",
   "execution_count": 69,
   "metadata": {},
   "outputs": [
    {
     "name": "stdout",
     "output_type": "stream",
     "text": [
      "[[13.52810469]\n",
      " [10.80031442]\n",
      " [11.95747597]\n",
      " [14.4817864 ]\n",
      " [13.73511598]\n",
      " [ 8.04544424]\n",
      " [11.90017684]\n",
      " [ 9.69728558]\n",
      " [ 9.7935623 ]\n",
      " [10.821197  ]]\n"
     ]
    }
   ],
   "source": [
    "print(arr)"
   ]
  },
  {
   "cell_type": "code",
   "execution_count": null,
   "metadata": {},
   "outputs": [],
   "source": []
  }
 ],
 "metadata": {
  "kernelspec": {
   "display_name": "Python 3",
   "language": "python",
   "name": "python3"
  },
  "language_info": {
   "codemirror_mode": {
    "name": "ipython",
    "version": 3
   },
   "file_extension": ".py",
   "mimetype": "text/x-python",
   "name": "python",
   "nbconvert_exporter": "python",
   "pygments_lexer": "ipython3",
   "version": "3.7.3"
  }
 },
 "nbformat": 4,
 "nbformat_minor": 2
}
